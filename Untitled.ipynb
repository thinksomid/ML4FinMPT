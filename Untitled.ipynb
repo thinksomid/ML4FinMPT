{
 "cells": [
  {
   "cell_type": "code",
   "execution_count": 59,
   "metadata": {},
   "outputs": [
    {
     "name": "stdout",
     "output_type": "stream",
     "text": [
      "              LNG\n",
      "Date             \n",
      "1994-04-04   72.0\n",
      "1994-04-05  108.0\n",
      "1994-04-06  108.0\n",
      "1994-04-07  108.0\n",
      "1994-04-08  108.0\n",
      "\n",
      "                  SPY\n",
      "Date                 \n",
      "1993-01-29  28.223927\n",
      "1993-02-01  28.424666\n",
      "1993-02-02  28.484856\n",
      "1993-02-03  28.785997\n",
      "1993-02-04  28.906440\n",
      "\n",
      "                 SMLV\n",
      "Date                 \n",
      "2013-02-21  49.482507\n",
      "2013-02-22  49.881225\n",
      "2013-02-25  49.440974\n",
      "2013-02-26  49.200082\n",
      "2013-02-27  49.424361\n",
      "\n"
     ]
    }
   ],
   "source": [
    "stocks = ['LNG','SPY','SMLV']\n",
    "\n",
    "import pandas as pd\n",
    "lng_df = pd.read_csv('lng.csv', index_col=0, header=0, names=['Date','LNG','LNGVOL']).drop('LNGVOL',axis=1)\n",
    "spy_df = pd.read_csv('spy.csv', index_col=0, header=0, names=['Date','SPY','SPYVOL']).drop('SPYVOL',axis=1)\n",
    "smlv_df = pd.read_csv('smlv.csv', index_col=0, header=0, names=['Date','SMLV','SMLVVOL']).drop('SMLVVOL',axis=1)\n",
    "\n",
    "print(lng_df.head())\n",
    "print('')\n",
    "print(spy_df.head())\n",
    "print('')\n",
    "print(smlv_df.head())\n",
    "print('')\n"
   ]
  },
  {
   "cell_type": "code",
   "execution_count": 61,
   "metadata": {},
   "outputs": [
    {
     "name": "stdout",
     "output_type": "stream",
     "text": [
      "              LNG     SPY     SMLV\n",
      "2018-04-10  55.63  265.15  89.3732\n",
      "2018-04-11  56.25  263.76  89.1012\n",
      "2018-04-12  56.20  265.93  89.1900\n",
      "2018-04-13  55.95  265.15  88.9300\n",
      "2018-04-16  56.90  267.33  90.0700\n",
      "\n",
      "                 LNG       SPY      SMLV\n",
      "2017-12-01  0.019558  0.027069  0.029058\n",
      "2018-01-01  0.128300  0.021450 -0.010725\n",
      "2018-02-01  0.057770  0.047662 -0.003823\n",
      "2018-03-01 -0.103353 -0.049293 -0.048131\n",
      "2018-04-02  0.021396 -0.034367  0.009406\n",
      "\n"
     ]
    }
   ],
   "source": [
    "import pandas as pd\n",
    "\n",
    "# Join 3 stock dataframes together\n",
    "full_df = pd.concat([lng_df, spy_df, smlv_df], axis=1).dropna()\n",
    "full_df.index = pd.to_datetime(full_df.index)\n",
    "\n",
    "print(full_df.tail())\n",
    "print('')\n",
    "\n",
    "\n",
    "# Resample the full dataframe to monthly timeframe\n",
    "monthly_df = full_df.resample('BMS').first()\n",
    "\n",
    "# Calculate daily returns of stocks\n",
    "returns_daily = full_df.pct_change()\n",
    "\n",
    "# Calculate monthly returns of the stocks\n",
    "returns_monthly = monthly_df.pct_change().dropna()\n",
    "print(returns_monthly.tail())\n",
    "print('')\n"
   ]
  }
 ],
 "metadata": {
  "kernelspec": {
   "display_name": "Python 3",
   "language": "python",
   "name": "python3"
  },
  "language_info": {
   "codemirror_mode": {
    "name": "ipython",
    "version": 3
   },
   "file_extension": ".py",
   "mimetype": "text/x-python",
   "name": "python",
   "nbconvert_exporter": "python",
   "pygments_lexer": "ipython3",
   "version": "3.7.7"
  }
 },
 "nbformat": 4,
 "nbformat_minor": 4
}

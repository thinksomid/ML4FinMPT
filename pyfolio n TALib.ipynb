{
 "cells": [
  {
   "cell_type": "code",
   "execution_count": null,
   "metadata": {},
   "outputs": [],
   "source": [
    "# Technical Analysis of Stocks using TA-Lib\n",
    "# http://towardsdatascience.com/technical-analysis-of-stocks-using-ta-lib-305614165051#:~:text=TA-Lib%20technical%20analysis%20python%20library&text=TA-Lib%20is%20an%20open,can%20make%20our%20investments%20accordingly.\n",
    "\n",
    "# Trading Strategy: Technical Analysis with Python TA-Lib\n",
    "# https://towardsdatascience.com/trading-strategy-technical-analysis-with-python-ta-lib-3ce9d6ce5614\n",
    "\n",
    "# https://towardsdatascience.com/algorithmic-trading-based-on-technical-analysis-in-python-80d445dc6943\n",
    "# https://towardsdatascience.com/algorithmic-trading-based-on-technical-analysis-in-python-80d445dc6943"
   ]
  }
 ],
 "metadata": {
  "kernelspec": {
   "display_name": "Python 3",
   "language": "python",
   "name": "python3"
  },
  "language_info": {
   "codemirror_mode": {
    "name": "ipython",
    "version": 3
   },
   "file_extension": ".py",
   "mimetype": "text/x-python",
   "name": "python",
   "nbconvert_exporter": "python",
   "pygments_lexer": "ipython3",
   "version": "3.7.9"
  }
 },
 "nbformat": 4,
 "nbformat_minor": 4
}
